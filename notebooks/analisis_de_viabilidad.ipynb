{
 "cells": [
  {
   "cell_type": "markdown",
   "metadata": {},
   "source": [
    "# Extracción de petróleo OilyGiant."
   ]
  },
  {
   "cell_type": "markdown",
   "metadata": {},
   "source": [
    "## Introducción \n",
    "La empresa OilyGiant planea invertir $100,000,000 USD en el desarrollo de 200 pozos petroleros en tres regiones seleccionadas con alto potencial para la extracción de petróleo. De cada región se han identificado 500 puntos de interés, y el objetivo es reducir esta selección a solo una región y los 200 mejores puntos para la extracción.\n",
    "\n",
    "Para lograrlo, se entrenará un modelo de machine learning utilizando regresión lineal para analizar la viabilidad de cada región, evaluando el beneficio bruto esperado. Para validar la fiabilidad del modelo, se aplicará la técnica de bootstrapping, a partir de la cual se calculará el beneficio promedio de cada región y se analizará el intervalo de confianza del 95%. Además, se realizarán cálculos para evaluar los riesgos de pérdidas, asegurando que se mantengan solo las regiones con un riesgo inferior al 2.5%."
   ]
  },
  {
   "cell_type": "markdown",
   "metadata": {},
   "source": [
    "## Cargar los datos"
   ]
  },
  {
   "cell_type": "code",
   "execution_count": 17,
   "metadata": {},
   "outputs": [],
   "source": [
    "# Importar librerias\n",
    "import pandas as pd \n",
    "import numpy as np\n",
    "from sklearn.model_selection import train_test_split\n",
    "from sklearn.linear_model import LinearRegression\n",
    "from sklearn.metrics import mean_squared_error"
   ]
  },
  {
   "cell_type": "code",
   "execution_count": null,
   "metadata": {},
   "outputs": [],
   "source": [
    "# Decargar los dataset\n",
    "data_0 = pd.read_csv('../dataset/geo_data_0.csv')\n",
    "data_1 = pd.read_csv('../dataset/geo_data_1.csv')\n",
    "data_2 = pd.read_csv('../dataset/geo_data_2.csv')"
   ]
  },
  {
   "cell_type": "markdown",
   "metadata": {},
   "source": [
    "### Procesamiento de datos"
   ]
  },
  {
   "cell_type": "code",
   "execution_count": 19,
   "metadata": {},
   "outputs": [
    {
     "name": "stdout",
     "output_type": "stream",
     "text": [
      "<class 'pandas.core.frame.DataFrame'>\n",
      "RangeIndex: 100000 entries, 0 to 99999\n",
      "Data columns (total 5 columns):\n",
      " #   Column   Non-Null Count   Dtype  \n",
      "---  ------   --------------   -----  \n",
      " 0   id       100000 non-null  object \n",
      " 1   f0       100000 non-null  float64\n",
      " 2   f1       100000 non-null  float64\n",
      " 3   f2       100000 non-null  float64\n",
      " 4   product  100000 non-null  float64\n",
      "dtypes: float64(4), object(1)\n",
      "memory usage: 3.8+ MB\n"
     ]
    }
   ],
   "source": [
    "# Muestra la estructura de los datos de data_0\n",
    "data_0.info()"
   ]
  },
  {
   "cell_type": "code",
   "execution_count": 20,
   "metadata": {},
   "outputs": [
    {
     "data": {
      "text/html": [
       "<div>\n",
       "<style scoped>\n",
       "    .dataframe tbody tr th:only-of-type {\n",
       "        vertical-align: middle;\n",
       "    }\n",
       "\n",
       "    .dataframe tbody tr th {\n",
       "        vertical-align: top;\n",
       "    }\n",
       "\n",
       "    .dataframe thead th {\n",
       "        text-align: right;\n",
       "    }\n",
       "</style>\n",
       "<table border=\"1\" class=\"dataframe\">\n",
       "  <thead>\n",
       "    <tr style=\"text-align: right;\">\n",
       "      <th></th>\n",
       "      <th>id</th>\n",
       "      <th>f0</th>\n",
       "      <th>f1</th>\n",
       "      <th>f2</th>\n",
       "      <th>product</th>\n",
       "    </tr>\n",
       "  </thead>\n",
       "  <tbody>\n",
       "    <tr>\n",
       "      <th>0</th>\n",
       "      <td>txEyH</td>\n",
       "      <td>0.705745</td>\n",
       "      <td>-0.497823</td>\n",
       "      <td>1.221170</td>\n",
       "      <td>105.280062</td>\n",
       "    </tr>\n",
       "    <tr>\n",
       "      <th>1</th>\n",
       "      <td>2acmU</td>\n",
       "      <td>1.334711</td>\n",
       "      <td>-0.340164</td>\n",
       "      <td>4.365080</td>\n",
       "      <td>73.037750</td>\n",
       "    </tr>\n",
       "    <tr>\n",
       "      <th>2</th>\n",
       "      <td>409Wp</td>\n",
       "      <td>1.022732</td>\n",
       "      <td>0.151990</td>\n",
       "      <td>1.419926</td>\n",
       "      <td>85.265647</td>\n",
       "    </tr>\n",
       "    <tr>\n",
       "      <th>3</th>\n",
       "      <td>iJLyR</td>\n",
       "      <td>-0.032172</td>\n",
       "      <td>0.139033</td>\n",
       "      <td>2.978566</td>\n",
       "      <td>168.620776</td>\n",
       "    </tr>\n",
       "    <tr>\n",
       "      <th>4</th>\n",
       "      <td>Xdl7t</td>\n",
       "      <td>1.988431</td>\n",
       "      <td>0.155413</td>\n",
       "      <td>4.751769</td>\n",
       "      <td>154.036647</td>\n",
       "    </tr>\n",
       "  </tbody>\n",
       "</table>\n",
       "</div>"
      ],
      "text/plain": [
       "      id        f0        f1        f2     product\n",
       "0  txEyH  0.705745 -0.497823  1.221170  105.280062\n",
       "1  2acmU  1.334711 -0.340164  4.365080   73.037750\n",
       "2  409Wp  1.022732  0.151990  1.419926   85.265647\n",
       "3  iJLyR -0.032172  0.139033  2.978566  168.620776\n",
       "4  Xdl7t  1.988431  0.155413  4.751769  154.036647"
      ]
     },
     "execution_count": 20,
     "metadata": {},
     "output_type": "execute_result"
    }
   ],
   "source": [
    "# Vista general de los datos\n",
    "data_0.head()"
   ]
  },
  {
   "cell_type": "code",
   "execution_count": 21,
   "metadata": {},
   "outputs": [
    {
     "name": "stdout",
     "output_type": "stream",
     "text": [
      "<class 'pandas.core.frame.DataFrame'>\n",
      "RangeIndex: 100000 entries, 0 to 99999\n",
      "Data columns (total 5 columns):\n",
      " #   Column   Non-Null Count   Dtype  \n",
      "---  ------   --------------   -----  \n",
      " 0   id       100000 non-null  object \n",
      " 1   f0       100000 non-null  float64\n",
      " 2   f1       100000 non-null  float64\n",
      " 3   f2       100000 non-null  float64\n",
      " 4   product  100000 non-null  float64\n",
      "dtypes: float64(4), object(1)\n",
      "memory usage: 3.8+ MB\n"
     ]
    }
   ],
   "source": [
    "# Muestra la estructura de los datos de data_1\n",
    "data_1.info()"
   ]
  },
  {
   "cell_type": "code",
   "execution_count": 22,
   "metadata": {},
   "outputs": [
    {
     "data": {
      "text/html": [
       "<div>\n",
       "<style scoped>\n",
       "    .dataframe tbody tr th:only-of-type {\n",
       "        vertical-align: middle;\n",
       "    }\n",
       "\n",
       "    .dataframe tbody tr th {\n",
       "        vertical-align: top;\n",
       "    }\n",
       "\n",
       "    .dataframe thead th {\n",
       "        text-align: right;\n",
       "    }\n",
       "</style>\n",
       "<table border=\"1\" class=\"dataframe\">\n",
       "  <thead>\n",
       "    <tr style=\"text-align: right;\">\n",
       "      <th></th>\n",
       "      <th>id</th>\n",
       "      <th>f0</th>\n",
       "      <th>f1</th>\n",
       "      <th>f2</th>\n",
       "      <th>product</th>\n",
       "    </tr>\n",
       "  </thead>\n",
       "  <tbody>\n",
       "    <tr>\n",
       "      <th>0</th>\n",
       "      <td>kBEdx</td>\n",
       "      <td>-15.001348</td>\n",
       "      <td>-8.276000</td>\n",
       "      <td>-0.005876</td>\n",
       "      <td>3.179103</td>\n",
       "    </tr>\n",
       "    <tr>\n",
       "      <th>1</th>\n",
       "      <td>62mP7</td>\n",
       "      <td>14.272088</td>\n",
       "      <td>-3.475083</td>\n",
       "      <td>0.999183</td>\n",
       "      <td>26.953261</td>\n",
       "    </tr>\n",
       "    <tr>\n",
       "      <th>2</th>\n",
       "      <td>vyE1P</td>\n",
       "      <td>6.263187</td>\n",
       "      <td>-5.948386</td>\n",
       "      <td>5.001160</td>\n",
       "      <td>134.766305</td>\n",
       "    </tr>\n",
       "    <tr>\n",
       "      <th>3</th>\n",
       "      <td>KcrkZ</td>\n",
       "      <td>-13.081196</td>\n",
       "      <td>-11.506057</td>\n",
       "      <td>4.999415</td>\n",
       "      <td>137.945408</td>\n",
       "    </tr>\n",
       "    <tr>\n",
       "      <th>4</th>\n",
       "      <td>AHL4O</td>\n",
       "      <td>12.702195</td>\n",
       "      <td>-8.147433</td>\n",
       "      <td>5.004363</td>\n",
       "      <td>134.766305</td>\n",
       "    </tr>\n",
       "  </tbody>\n",
       "</table>\n",
       "</div>"
      ],
      "text/plain": [
       "      id         f0         f1        f2     product\n",
       "0  kBEdx -15.001348  -8.276000 -0.005876    3.179103\n",
       "1  62mP7  14.272088  -3.475083  0.999183   26.953261\n",
       "2  vyE1P   6.263187  -5.948386  5.001160  134.766305\n",
       "3  KcrkZ -13.081196 -11.506057  4.999415  137.945408\n",
       "4  AHL4O  12.702195  -8.147433  5.004363  134.766305"
      ]
     },
     "execution_count": 22,
     "metadata": {},
     "output_type": "execute_result"
    }
   ],
   "source": [
    "# Vista general de los datos\n",
    "data_1.head()"
   ]
  },
  {
   "cell_type": "code",
   "execution_count": 23,
   "metadata": {},
   "outputs": [
    {
     "name": "stdout",
     "output_type": "stream",
     "text": [
      "<class 'pandas.core.frame.DataFrame'>\n",
      "RangeIndex: 100000 entries, 0 to 99999\n",
      "Data columns (total 5 columns):\n",
      " #   Column   Non-Null Count   Dtype  \n",
      "---  ------   --------------   -----  \n",
      " 0   id       100000 non-null  object \n",
      " 1   f0       100000 non-null  float64\n",
      " 2   f1       100000 non-null  float64\n",
      " 3   f2       100000 non-null  float64\n",
      " 4   product  100000 non-null  float64\n",
      "dtypes: float64(4), object(1)\n",
      "memory usage: 3.8+ MB\n"
     ]
    }
   ],
   "source": [
    "# Muestra la estructura de los datos de data_2\n",
    "data_2.info()"
   ]
  },
  {
   "cell_type": "code",
   "execution_count": 24,
   "metadata": {},
   "outputs": [
    {
     "data": {
      "text/html": [
       "<div>\n",
       "<style scoped>\n",
       "    .dataframe tbody tr th:only-of-type {\n",
       "        vertical-align: middle;\n",
       "    }\n",
       "\n",
       "    .dataframe tbody tr th {\n",
       "        vertical-align: top;\n",
       "    }\n",
       "\n",
       "    .dataframe thead th {\n",
       "        text-align: right;\n",
       "    }\n",
       "</style>\n",
       "<table border=\"1\" class=\"dataframe\">\n",
       "  <thead>\n",
       "    <tr style=\"text-align: right;\">\n",
       "      <th></th>\n",
       "      <th>id</th>\n",
       "      <th>f0</th>\n",
       "      <th>f1</th>\n",
       "      <th>f2</th>\n",
       "      <th>product</th>\n",
       "    </tr>\n",
       "  </thead>\n",
       "  <tbody>\n",
       "    <tr>\n",
       "      <th>0</th>\n",
       "      <td>fwXo0</td>\n",
       "      <td>-1.146987</td>\n",
       "      <td>0.963328</td>\n",
       "      <td>-0.828965</td>\n",
       "      <td>27.758673</td>\n",
       "    </tr>\n",
       "    <tr>\n",
       "      <th>1</th>\n",
       "      <td>WJtFt</td>\n",
       "      <td>0.262778</td>\n",
       "      <td>0.269839</td>\n",
       "      <td>-2.530187</td>\n",
       "      <td>56.069697</td>\n",
       "    </tr>\n",
       "    <tr>\n",
       "      <th>2</th>\n",
       "      <td>ovLUW</td>\n",
       "      <td>0.194587</td>\n",
       "      <td>0.289035</td>\n",
       "      <td>-5.586433</td>\n",
       "      <td>62.871910</td>\n",
       "    </tr>\n",
       "    <tr>\n",
       "      <th>3</th>\n",
       "      <td>q6cA6</td>\n",
       "      <td>2.236060</td>\n",
       "      <td>-0.553760</td>\n",
       "      <td>0.930038</td>\n",
       "      <td>114.572842</td>\n",
       "    </tr>\n",
       "    <tr>\n",
       "      <th>4</th>\n",
       "      <td>WPMUX</td>\n",
       "      <td>-0.515993</td>\n",
       "      <td>1.716266</td>\n",
       "      <td>5.899011</td>\n",
       "      <td>149.600746</td>\n",
       "    </tr>\n",
       "  </tbody>\n",
       "</table>\n",
       "</div>"
      ],
      "text/plain": [
       "      id        f0        f1        f2     product\n",
       "0  fwXo0 -1.146987  0.963328 -0.828965   27.758673\n",
       "1  WJtFt  0.262778  0.269839 -2.530187   56.069697\n",
       "2  ovLUW  0.194587  0.289035 -5.586433   62.871910\n",
       "3  q6cA6  2.236060 -0.553760  0.930038  114.572842\n",
       "4  WPMUX -0.515993  1.716266  5.899011  149.600746"
      ]
     },
     "execution_count": 24,
     "metadata": {},
     "output_type": "execute_result"
    }
   ],
   "source": [
    "# Vista general de los datos\n",
    "data_2.head()"
   ]
  },
  {
   "cell_type": "code",
   "execution_count": 25,
   "metadata": {},
   "outputs": [
    {
     "data": {
      "text/plain": [
       "0"
      ]
     },
     "execution_count": 25,
     "metadata": {},
     "output_type": "execute_result"
    }
   ],
   "source": [
    "# Revisar los 3 dataset en busca de duplicados, si el resultado es distinto de 0 se revisaran de forma indvidual\n",
    "data_0.duplicated().sum()+data_1.duplicated().sum()+data_2.duplicated().sum()"
   ]
  },
  {
   "cell_type": "markdown",
   "metadata": {},
   "source": [
    "### Descripción de datos\n",
    "Los 3 DataFrame presentan la misma estructura de datos, no contienen duplicados ni datos nulos, a continuacion se definen las columnas de las tablas `geo_data`:\n",
    "- `id`: Identificador único de pozo de petróleo\n",
    "- `f0`, `f1`, `f2`: Tres características de los puntos (su significado específico no es importante, pero las características en sí son significativas).\n",
    "- `product`: Volumen de reservas en el pozo de petróleo (miles de barriles)."
   ]
  },
  {
   "cell_type": "markdown",
   "metadata": {},
   "source": [
    "## Entrenamiento del Modelo"
   ]
  },
  {
   "cell_type": "code",
   "execution_count": 26,
   "metadata": {},
   "outputs": [
    {
     "name": "stdout",
     "output_type": "stream",
     "text": [
      "Región 0:\n",
      "Volumen medio predicho: 92.43045952558441\n",
      "RMSE: 37.562394183637785\n",
      "Región 1:\n",
      "Volumen medio predicho: 68.80248249798368\n",
      "RMSE: 0.8939344738117714\n",
      "Región 2:\n",
      "Volumen medio predicho: 94.91573817913459\n",
      "RMSE: 40.10318099258418\n"
     ]
    }
   ],
   "source": [
    "# Función para entrenar y evaluar el modelo\n",
    "def train_and_evaluate(data):\n",
    "    # Características y objetivo\n",
    "    X = data[['f0', 'f1', 'f2']]\n",
    "    y = data['product']\n",
    "    \n",
    "    # Dividir en conjunto de entrenamiento y validación (75:25)\n",
    "    X_train, X_val, y_train, y_val = train_test_split(X, y, test_size=0.25, random_state=1234)\n",
    "    \n",
    "    # Entrenar el modelo de regresión lineal\n",
    "    model = LinearRegression()\n",
    "    model.fit(X_train, y_train)\n",
    "    \n",
    "    # Hacer predicciones en el conjunto de validación\n",
    "    predictions = model.predict(X_val)\n",
    "    \n",
    "    # Guardar las predicciones y las respuestas correctas\n",
    "    results = pd.DataFrame({'Predictions': predictions, 'Actual': y_val})\n",
    "    \n",
    "    # Calcular volumen medio de reservas predicho\n",
    "    mean_predicted_reserves = predictions.mean()\n",
    "    \n",
    "    # Calcular el RMSE (raíz del error cuadrático medio)\n",
    "    rmse = mean_squared_error(y_val, predictions, squared=False)\n",
    "    \n",
    "    print(f\"Volumen medio predicho: {mean_predicted_reserves}\")\n",
    "    print(f\"RMSE: {rmse}\")\n",
    "    \n",
    "    return results\n",
    "\n",
    "# Entrenar y evaluar el modelo en cada conjunto de datos\n",
    "print(\"Región 0:\")\n",
    "results_0 = train_and_evaluate(data_0)\n",
    "print(\"Región 1:\")\n",
    "results_1 = train_and_evaluate(data_1)\n",
    "print(\"Región 2:\")\n",
    "results_2 = train_and_evaluate(data_2)"
   ]
  },
  {
   "cell_type": "markdown",
   "metadata": {},
   "source": [
    "### Observaciones\n",
    "En las regiones 0 y 2, los volúmenes predichos son más altos (alrededor de 92.43 y 94.92, respectivamente) en comparación con la región 1 (68.80). Esto sugiere que las regiones 0 y 2 podrían tener mayores reservas de petróleo, basándonos solo en el volumen predicho.\n",
    "\n",
    "El RMSE mide el error de las predicciones: cuanto mayor sea el RMSE, más variable es la predicción respecto a los valores reales. Para las regiones 0 y 2, el RMSE es bastante alto (alrededor de 37.56 y 40.10), lo que significa que las predicciones en esas regiones son más imprecisas. En cambio, el RMSE para la región 1 es mucho más bajo (0.89), lo que indica que el modelo es mucho más preciso para esa región."
   ]
  },
  {
   "cell_type": "markdown",
   "metadata": {},
   "source": [
    "## Calcular la Viabilidad\n",
    "En el siguiente paso, los datos se ordenan de mayor a menor volumen para seleccionar los 200 pozos con mayor cantidad de petróleo en cada región. Posteriormente, se calcula el volumen promedio de estos pozos para evaluar la rentabilidad estimada por pozo en cada región en comparación con el umbral de rentabilidad."
   ]
  },
  {
   "cell_type": "code",
   "execution_count": 27,
   "metadata": {},
   "outputs": [
    {
     "name": "stdout",
     "output_type": "stream",
     "text": [
      "Diferencia entre el umbral y la region 0: 43.13\n",
      "Diferencia entre el umbral y la region 1: 27.58\n",
      "Diferencia entre el umbral y la region 2: 38.87\n"
     ]
    }
   ],
   "source": [
    "# Almacena en variables las constantes y valores necesarios\n",
    "total_investment = 100000000 \n",
    "oil_wells = 200\n",
    "revenue_per_unit = 4500\n",
    "investment_per_well = total_investment / revenue_per_unit / oil_wells # umbral de rentabilidad\n",
    "\n",
    "def reserve_difference(results):\n",
    "    # Seleccionar y almacenar los 200 pozos con el volumen más alto \n",
    "    top_volumes = results['Predictions'].sort_values(ascending = False).head(oil_wells)\n",
    "    \n",
    "    # Calcular el promedio de los pozos seleccionados y restar el umbral de rentabilidad\n",
    "    difference  = top_volumes.mean()-investment_per_well\n",
    "    \n",
    "    return difference  \n",
    "# Presentar resultados de las comparaciones con el umbral\n",
    "print(\"Diferencia entre el umbral y la region 0: {:.2f}\".format(reserve_difference(results_0)))\n",
    "print(\"Diferencia entre el umbral y la region 1: {:.2f}\".format(reserve_difference(results_1)))\n",
    "print(\"Diferencia entre el umbral y la region 2: {:.2f}\".format(reserve_difference(results_2)))"
   ]
  },
  {
   "cell_type": "markdown",
   "metadata": {},
   "source": [
    "### Conclusion\n",
    "Al igual que en el análisis anterior (la evaluacion del modelo), se observa una marcada diferencia en la Región 1, cuyo volumen promedio queda 26.83 unidades por encima del umbral de rentabilidad, en comparación con las Regiones 0 y 2, que muestran diferencias de 43.13 y 38.87 unidades, respectivamente, sobre el mismo umbral. Esto sugiere que las Regiones 0 y 2 superan la rentabilidad esperada con un margen significativamente mayor que la Región 1."
   ]
  },
  {
   "cell_type": "markdown",
   "metadata": {},
   "source": [
    "## Beneficio Bruto\n",
    "Para calcular el beneficio bruto, primero seleccionaremos los 200 pozos de mayor volumen en cada región y sumaremos sus reservas. Luego, multiplicaremos este valor total por 4500 USD, que es el ingreso esperado por cada unidad de producción en miles de barriles. Esto nos dará el ingreso bruto para cada región. Finalmente, restaremos la inversión total de 100 millones USD para obtener el beneficio neto esperado en cada región."
   ]
  },
  {
   "cell_type": "code",
   "execution_count": 28,
   "metadata": {},
   "outputs": [
    {
     "name": "stdout",
     "output_type": "stream",
     "text": [
      "Beneficio bruto región 0: $38,821,157.44\n",
      "Beneficio bruto región 1: $24,824,861.69\n",
      "Beneficio bruto región 2: $34,983,487.05\n"
     ]
    }
   ],
   "source": [
    "def profit(results):\n",
    "    # Almacenar los 200 pozos con el volumen más alto (volumen predicho)\n",
    "    top_predictions=results['Predictions'].sort_values(ascending = False).head(oil_wells)\n",
    "    \n",
    "    # Calcular los ingresos multiplicando las reservas totales por el valor por unidad\n",
    "    income  = top_predictions.sum() * revenue_per_unit\n",
    "    \n",
    "    # Restar la inversión total para obtener la ganancia bruta\n",
    "    gross_profit   = income - total_investment\n",
    "    \n",
    "    return gross_profit , top_predictions\n",
    "# Llamada a la función y almacenamiento de los resultados\n",
    "profit_region_0, top_predictions_0 = profit(results_0)\n",
    "profit_region_1, top_predictions_1 = profit(results_1)\n",
    "profit_region_2, top_predictions_2 = profit(results_2)\n",
    "# Presentar resultados de las comparaciones con el umbral, usando separador de miles y formato de moneda\n",
    "print(\"Beneficio bruto región 0: ${:,.2f}\".format(profit_region_0))\n",
    "print(\"Beneficio bruto región 1: ${:,.2f}\".format(profit_region_1))\n",
    "print(\"Beneficio bruto región 2: ${:,.2f}\".format(profit_region_2))"
   ]
  },
  {
   "cell_type": "markdown",
   "metadata": {},
   "source": [
    "Los resultados del cálculo de beneficio bruto muestran una diferencia importante entre las tres regiones. La región 1 genera un beneficio bruto significativamente menor, con `$24,824,861.69`, en comparación con las regiones 0 y 2, lo que concuerda con los análisis previos. La región 0 supera a la región 2 en términos de ganancia bruta, con `$38,821,157.44` y `$34,983,487.05` respectivamente."
   ]
  },
  {
   "cell_type": "markdown",
   "metadata": {},
   "source": [
    "La región 0 destaca consistentemente con una rentabilidad proyectada superior en comparación con las regiones 1 y 2. Aunque la diferencia entre las regiones 0 y 2 no es tan significativa, ambas se consideran altamente rentables en comparación con la región 1, que muestra un rendimiento considerablemente menor. Dado que la región 2 ha demostrado un volumen promedio de extracción superior en la validación del modelo, esta región sigue siendo una alternativa viable, aunque la región 0 se considera la opción preferida para la inversión ."
   ]
  },
  {
   "cell_type": "markdown",
   "metadata": {},
   "source": [
    "## Calcula riesgos y ganancias para cada región:"
   ]
  },
  {
   "cell_type": "markdown",
   "metadata": {},
   "source": [
    "### Bootstraping\n",
    "La funcion a continuacion, transforma una Serie de predicciones en un DataFrame para su posterior uso.\n",
    "\n",
    "Parámetros:\n",
    "predictions (pd.Series): Serie de valores de predicción.\n",
    "\n",
    "Retorna:\n",
    "pd.DataFrame: DataFrame con los valores de predicción.\n",
    "    "
   ]
  },
  {
   "cell_type": "code",
   "execution_count": 29,
   "metadata": {},
   "outputs": [],
   "source": [
    "# Convierte una serie de predicciones a un DataFrame para su uso en el análisis de bootstrap.\n",
    "def mk_df(predictions):\n",
    "    predictions_df = pd.DataFrame(predictions)\n",
    "    return predictions_df\n",
    "\n",
    "# Transformación de predicciones a DataFrames para cada región.\n",
    "predict_rg0_df = mk_df(top_predictions_0)\n",
    "predict_rg1_df = mk_df(top_predictions_1)\n",
    "predict_rg2_df = mk_df(top_predictions_2)"
   ]
  },
  {
   "cell_type": "markdown",
   "metadata": {},
   "source": [
    "Esta función genera la distribución de los beneficios mediante la técnica de bootstrapping.\n",
    "\n",
    "Parámetros:\n",
    "predictions (pd.DataFrame): DataFrame de predicciones de los pozos seleccionados en una región.\n",
    "n_samples (int): Número de muestras bootstrap a generar (por defecto es 1000).\n",
    "\n",
    "Retorna:\n",
    "pd.Series: Serie que contiene los beneficios netos calculados para cada muestra bootstrap."
   ]
  },
  {
   "cell_type": "code",
   "execution_count": 30,
   "metadata": {},
   "outputs": [],
   "source": [
    "# Realiza bootstrapping sobre los datos de predicción de pozos seleccionados para analizar la distribución de beneficios.\n",
    "def bootstraping(predictions, n_samples=1000):\n",
    "    \n",
    "    state = np.random.RandomState(12345)\n",
    "    profits_list = []\n",
    "\n",
    "    # Bucle para generar n_samples muestras de bootstrap\n",
    "    for i in range(n_samples):\n",
    "        # Toma una muestra aleatoria con reemplazo de los pozos seleccionados\n",
    "        sub_sample = predictions.sample(frac=1, random_state=state, replace=True)\n",
    "        \n",
    "        # Calcula el beneficio de la muestra usando la función profit\n",
    "        profit_rg, sub_spl_predict = profit(sub_sample)\n",
    "        profits_list.append(profit_rg)\n",
    "\n",
    "    # Convierte la lista de beneficios en una Serie para analizar la distribución\n",
    "    profits_sr = pd.Series(profits_list) \n",
    "    return profits_sr\n",
    "\n",
    "# Aplicación de bootstrapping en las predicciones de cada región.\n",
    "bootstraped_rg_0 = bootstraping(predict_rg0_df)\n",
    "bootstraped_rg_1 = bootstraping(predict_rg1_df)\n",
    "bootstraped_rg_2 = bootstraping(predict_rg2_df)"
   ]
  },
  {
   "cell_type": "markdown",
   "metadata": {},
   "source": [
    "### Beneficio promedio"
   ]
  },
  {
   "cell_type": "code",
   "execution_count": 31,
   "metadata": {},
   "outputs": [
    {
     "name": "stdout",
     "output_type": "stream",
     "text": [
      "Región 0: $38,807,929.57\n",
      "Región 1: $24,824,230.83\n",
      "Región 2: $34,966,032.75\n"
     ]
    }
   ],
   "source": [
    "print(\"Región 0: ${:,.2f}\".format(bootstraped_rg_0.mean()))\n",
    "print(\"Región 1: ${:,.2f}\".format(bootstraped_rg_1.mean()))\n",
    "print(\"Región 2: ${:,.2f}\".format(bootstraped_rg_2.mean()))"
   ]
  },
  {
   "cell_type": "markdown",
   "metadata": {},
   "source": [
    "En términos de beneficio bruto promedio, la región 0 lidera con `$38,807,929.57`, seguida de cerca por la región 2 con `$34,966,032.75`. En contraste, la región 1 muestra un promedio significativamente menor, con `$24,824,230.83.` Esto implica que, de basarnos en el modelo predictivo, la recomendación inicial sería invertir en la región 0 debido a sus mayores beneficios esperados."
   ]
  },
  {
   "cell_type": "markdown",
   "metadata": {},
   "source": [
    "### Intervalo de confianza del 95%."
   ]
  },
  {
   "cell_type": "code",
   "execution_count": 32,
   "metadata": {},
   "outputs": [
    {
     "name": "stdout",
     "output_type": "stream",
     "text": [
      "Intervalo de confianza 95% región 0: \n",
      "$38,116,930.62 \n",
      "$39,509,833.19\n",
      "\n",
      "Intervalo de confianza 95% región 1: \n",
      "$24,790,020.52 \n",
      "$24,858,825.78\n",
      "\n",
      "Intervalo de confianza 95% región 2: \n",
      "$34,225,601.96 \n",
      "$35,734,532.05\n",
      "\n"
     ]
    }
   ],
   "source": [
    "def intervalo_confianza (bootstraped_prediction):\n",
    "    # Calcula y almacena percentil del 2.5%\n",
    "    lower =  bootstraped_prediction.quantile(0.025)\n",
    "    \n",
    "    # Calcula y almacena percentil del 97.5%\n",
    "    upper = bootstraped_prediction.quantile(0.975)\n",
    "    return lower, upper\n",
    "\n",
    "lower_0, upper_0 =  intervalo_confianza(bootstraped_rg_0)\n",
    "lower_1, upper_1 =  intervalo_confianza(bootstraped_rg_1)\n",
    "lower_2, upper_2 =  intervalo_confianza(bootstraped_rg_2)\n",
    "\n",
    "print(\"Intervalo de confianza 95% región 0: \\n${:,.2f} \\n${:,.2f}\\n\".format(lower_0, upper_0))\n",
    "print(\"Intervalo de confianza 95% región 1: \\n${:,.2f} \\n${:,.2f}\\n\".format(lower_1, upper_1))\n",
    "print(\"Intervalo de confianza 95% región 2: \\n${:,.2f} \\n${:,.2f}\\n\".format(lower_2, upper_2))"
   ]
  },
  {
   "cell_type": "markdown",
   "metadata": {},
   "source": [
    "Los intervalos de confianza del 95% también respaldan esta conclusión. El intervalo de la región 0 se encuentra entre `$38,116,930.62` y `$39,509,833.19`, y el de la región 2, entre `$34,225,601.96` y `$35,734,532.05`, mientras que el de la región 1 es considerablemente más bajo, con un rango entre `$24,790,020.52` y `$24,858,825.78`. Esto sugiere que los beneficios esperados de las regiones 0 y 2 tienen una variabilidad similar, pero ambas superan a la región 1 con consistencia.\n"
   ]
  },
  {
   "cell_type": "markdown",
   "metadata": {},
   "source": [
    "### Riesgo de pérdidas."
   ]
  },
  {
   "cell_type": "code",
   "execution_count": 33,
   "metadata": {},
   "outputs": [
    {
     "name": "stdout",
     "output_type": "stream",
     "text": [
      "Riesgo de pérdidas región 0: 0.00%\n",
      "Riesgo de pérdidas región 1: 0.00%\n",
      "Riesgo de pérdidas región 2: 0.00%\n"
     ]
    }
   ],
   "source": [
    "# Riesgo de pérdidas\n",
    "def calcular_riesgo(bootstraped_prediction):\n",
    "    riesgo = (bootstraped_prediction < 0).mean() * 100\n",
    "    return riesgo\n",
    "\n",
    "riesgo_0 = calcular_riesgo(bootstraped_rg_0)\n",
    "riesgo_1 = calcular_riesgo(bootstraped_rg_1)\n",
    "riesgo_2 = calcular_riesgo(bootstraped_rg_2)\n",
    "\n",
    "print(\"Riesgo de pérdidas región 0: {:.2f}%\".format(riesgo_0))\n",
    "print(\"Riesgo de pérdidas región 1: {:.2f}%\".format(riesgo_1))\n",
    "print(\"Riesgo de pérdidas región 2: {:.2f}%\".format(riesgo_2))"
   ]
  },
  {
   "cell_type": "markdown",
   "metadata": {},
   "source": [
    "El análisis de las tres regiones sugiere que invertir en cualquiera de ellas podría resultar rentable, ya que ninguna presenta riesgo de pérdidas (probabilidad de ganancia negativa del 0%). Sin embargo, al comparar el beneficio promedio y los intervalos de confianza de cada región, las regiones 0 y 2 destacan como las opciones más rentables, superando ampliamente a la región 1."
   ]
  },
  {
   "cell_type": "markdown",
   "metadata": {},
   "source": [
    "### Conclusión\n",
    "\n",
    "Al analizar las predicciones versus los datos reales (validacion del modelo), encontramos que el modelo es razonablemente preciso, ya que las ganancias brutas obtenidas caen dentro del intervalo de confianza del 95%. Sin embargo, el margen de error podría reducirse. Dado que el modelo actual presenta un error cuadrático medio (RMSE) que deja margen de mejora, sería recomendable considerar otros modelos o ajustes para mejorar la precisión predictiva.\n",
    "\n",
    "En cuanto al umbral de producción necesario para justificar la inversión, la región 0 y la región 2 también se destacan, con diferencias respecto al umbral de 43.13 y 38.87 respectivamente, mientras que la región 1 tiene una diferencia de 27.58. Esto refuerza la viabilidad de invertir en las regiones 0 y 2. Si se considera el beneficio real, la región 2 podría tener un rendimiento ligeramente superior en comparación con la región 0, pero las diferencias son marginales y la inversión en cualquiera de las dos sería ventajosa."
   ]
  },
  {
   "cell_type": "markdown",
   "metadata": {},
   "source": [
    "### Recomendación Final\n",
    "Considerando los resultados de este análisis y los anteriores, la región 0 emerge como la opción recomendada para invertir, ya que presenta el mayor beneficio promedio en todas las predicciones y sus valores están respaldados por un intervalo de confianza del 95%, lo cual añade solidez a los resultados. La discrepancia observada entre la rentabilidad de las regiones 0 y 2 en las predicciones versus los datos reales podría estar influida por el índice de RMSE, lo que sugiere cierto margen de error en el modelo predictivo. Sin embargo, dado que el beneficio promedio de la región 0 cae dentro del intervalo de confianza, se considera que la predicción es suficientemente confiable.\n",
    "\n",
    "La diferencia entre los valores predichos y los datos reales no invalida la recomendación hacia la región 0, ya que su rentabilidad se ha mostrado robusta en cada análisis de las predicciones. En conclusión, aunque la región 2 presenta una rentabilidad atractiva en los datos reales, la consistencia y el respaldo estadístico de los valores predichos inclinan la recomendación final hacia invertir en la región 0."
   ]
  }
 ],
 "metadata": {
  "ExecuteTimeLog": [
   {
    "duration": 308,
    "start_time": "2024-10-22T02:19:52.204Z"
   },
   {
    "duration": 572,
    "start_time": "2024-10-22T02:22:16.146Z"
   },
   {
    "duration": 58,
    "start_time": "2024-10-22T02:22:44.512Z"
   },
   {
    "duration": 59,
    "start_time": "2024-10-22T02:23:24.407Z"
   },
   {
    "duration": 58,
    "start_time": "2024-10-22T02:26:08.167Z"
   },
   {
    "duration": 173,
    "start_time": "2024-10-22T02:27:04.937Z"
   },
   {
    "duration": 275,
    "start_time": "2024-10-22T02:27:12.180Z"
   },
   {
    "duration": 281,
    "start_time": "2024-10-22T02:27:24.723Z"
   },
   {
    "duration": 214,
    "start_time": "2024-10-22T02:27:25.006Z"
   },
   {
    "duration": 12,
    "start_time": "2024-10-22T02:31:16.512Z"
   },
   {
    "duration": 12,
    "start_time": "2024-10-22T02:31:31.642Z"
   },
   {
    "duration": 291,
    "start_time": "2024-10-23T02:03:05.624Z"
   },
   {
    "duration": 281,
    "start_time": "2024-10-23T02:03:07.602Z"
   },
   {
    "duration": 10,
    "start_time": "2024-10-23T02:03:09.080Z"
   },
   {
    "duration": 7,
    "start_time": "2024-10-23T02:03:15.598Z"
   },
   {
    "duration": 8,
    "start_time": "2024-10-23T02:03:24.181Z"
   },
   {
    "duration": 161,
    "start_time": "2024-10-23T21:42:19.122Z"
   },
   {
    "duration": 12,
    "start_time": "2024-10-23T21:42:41.685Z"
   },
   {
    "duration": 309,
    "start_time": "2024-10-23T21:42:48.047Z"
   },
   {
    "duration": 312,
    "start_time": "2024-10-23T21:42:48.358Z"
   },
   {
    "duration": 13,
    "start_time": "2024-10-23T21:42:48.671Z"
   },
   {
    "duration": 12,
    "start_time": "2024-10-23T21:42:48.685Z"
   },
   {
    "duration": 12,
    "start_time": "2024-10-23T21:49:42.850Z"
   },
   {
    "duration": 13,
    "start_time": "2024-10-23T21:50:00.315Z"
   },
   {
    "duration": 8,
    "start_time": "2024-10-23T21:51:04.143Z"
   },
   {
    "duration": 8,
    "start_time": "2024-10-23T21:55:44.527Z"
   },
   {
    "duration": 34,
    "start_time": "2024-10-23T21:59:39.221Z"
   },
   {
    "duration": 34,
    "start_time": "2024-10-23T21:59:46.027Z"
   },
   {
    "duration": 34,
    "start_time": "2024-10-23T21:59:49.636Z"
   },
   {
    "duration": 87,
    "start_time": "2024-10-23T22:00:42.259Z"
   },
   {
    "duration": 1883,
    "start_time": "2024-10-23T22:15:30.525Z"
   },
   {
    "duration": 388,
    "start_time": "2024-10-23T22:16:27.702Z"
   },
   {
    "duration": 5,
    "start_time": "2024-10-23T22:17:50.973Z"
   },
   {
    "duration": 283,
    "start_time": "2024-10-23T22:17:56.902Z"
   },
   {
    "duration": 273,
    "start_time": "2024-10-23T22:27:25.325Z"
   },
   {
    "duration": 287,
    "start_time": "2024-10-23T22:27:40.083Z"
   },
   {
    "duration": 271,
    "start_time": "2024-10-23T22:30:03.738Z"
   },
   {
    "duration": 278,
    "start_time": "2024-10-23T22:30:15.132Z"
   },
   {
    "duration": 273,
    "start_time": "2024-10-23T22:30:24.456Z"
   },
   {
    "duration": 3,
    "start_time": "2024-10-23T22:34:34.616Z"
   },
   {
    "duration": 948,
    "start_time": "2024-10-23T22:49:17.027Z"
   },
   {
    "duration": 219,
    "start_time": "2024-10-23T22:49:17.977Z"
   },
   {
    "duration": 16,
    "start_time": "2024-10-23T22:49:18.198Z"
   },
   {
    "duration": 9,
    "start_time": "2024-10-23T22:49:18.216Z"
   },
   {
    "duration": 10,
    "start_time": "2024-10-23T22:49:18.226Z"
   },
   {
    "duration": 6,
    "start_time": "2024-10-23T22:49:18.238Z"
   },
   {
    "duration": 10,
    "start_time": "2024-10-23T22:49:18.246Z"
   },
   {
    "duration": 8,
    "start_time": "2024-10-23T22:49:18.257Z"
   },
   {
    "duration": 118,
    "start_time": "2024-10-23T22:49:18.266Z"
   },
   {
    "duration": 130,
    "start_time": "2024-10-23T22:49:18.387Z"
   },
   {
    "duration": 44,
    "start_time": "2024-10-23T22:54:54.633Z"
   },
   {
    "duration": 157,
    "start_time": "2024-10-24T02:23:33.734Z"
   },
   {
    "duration": 2687,
    "start_time": "2024-10-24T02:23:42.525Z"
   },
   {
    "duration": 301,
    "start_time": "2024-10-24T02:23:45.218Z"
   },
   {
    "duration": 12,
    "start_time": "2024-10-24T02:23:45.521Z"
   },
   {
    "duration": 9,
    "start_time": "2024-10-24T02:23:45.536Z"
   },
   {
    "duration": 10,
    "start_time": "2024-10-24T02:23:45.548Z"
   },
   {
    "duration": 8,
    "start_time": "2024-10-24T02:23:45.559Z"
   },
   {
    "duration": 11,
    "start_time": "2024-10-24T02:23:45.568Z"
   },
   {
    "duration": 35,
    "start_time": "2024-10-24T02:23:45.580Z"
   },
   {
    "duration": 83,
    "start_time": "2024-10-24T02:23:45.617Z"
   },
   {
    "duration": 120,
    "start_time": "2024-10-24T02:23:45.712Z"
   },
   {
    "duration": 425,
    "start_time": "2024-10-24T02:23:45.835Z"
   },
   {
    "duration": 263,
    "start_time": "2024-10-24T02:24:07.564Z"
   },
   {
    "duration": 272,
    "start_time": "2024-10-24T02:24:14.328Z"
   },
   {
    "duration": 260,
    "start_time": "2024-10-24T02:24:45.616Z"
   },
   {
    "duration": 265,
    "start_time": "2024-10-24T02:25:06.617Z"
   },
   {
    "duration": 270,
    "start_time": "2024-10-24T02:26:05.568Z"
   },
   {
    "duration": 299,
    "start_time": "2024-10-24T02:33:43.404Z"
   },
   {
    "duration": 15,
    "start_time": "2024-10-24T02:34:30.302Z"
   },
   {
    "duration": 88,
    "start_time": "2024-10-24T02:36:07.347Z"
   },
   {
    "duration": 14,
    "start_time": "2024-10-24T02:36:17.472Z"
   },
   {
    "duration": 121,
    "start_time": "2024-10-24T02:36:57.695Z"
   },
   {
    "duration": 68,
    "start_time": "2024-10-24T02:37:10.261Z"
   },
   {
    "duration": 93,
    "start_time": "2024-10-24T02:37:29.439Z"
   },
   {
    "duration": 13,
    "start_time": "2024-10-24T02:38:01.970Z"
   },
   {
    "duration": 5,
    "start_time": "2024-10-24T02:39:52.545Z"
   },
   {
    "duration": 867,
    "start_time": "2024-10-24T02:40:06.667Z"
   },
   {
    "duration": 228,
    "start_time": "2024-10-24T02:40:07.536Z"
   },
   {
    "duration": 12,
    "start_time": "2024-10-24T02:40:07.765Z"
   },
   {
    "duration": 10,
    "start_time": "2024-10-24T02:40:07.779Z"
   },
   {
    "duration": 28,
    "start_time": "2024-10-24T02:40:07.790Z"
   },
   {
    "duration": 7,
    "start_time": "2024-10-24T02:40:07.819Z"
   },
   {
    "duration": 10,
    "start_time": "2024-10-24T02:40:07.828Z"
   },
   {
    "duration": 6,
    "start_time": "2024-10-24T02:40:07.840Z"
   },
   {
    "duration": 114,
    "start_time": "2024-10-24T02:40:07.848Z"
   },
   {
    "duration": 149,
    "start_time": "2024-10-24T02:40:07.965Z"
   },
   {
    "duration": 7,
    "start_time": "2024-10-24T02:40:08.116Z"
   },
   {
    "duration": 0,
    "start_time": "2024-10-24T02:42:28.188Z"
   },
   {
    "duration": 118,
    "start_time": "2024-10-24T02:43:24.182Z"
   },
   {
    "duration": 194,
    "start_time": "2024-10-24T02:43:32.610Z"
   },
   {
    "duration": 172,
    "start_time": "2024-10-24T02:44:42.025Z"
   },
   {
    "duration": 179,
    "start_time": "2024-10-24T02:44:47.376Z"
   },
   {
    "duration": 2749,
    "start_time": "2024-10-24T18:21:06.953Z"
   },
   {
    "duration": 314,
    "start_time": "2024-10-24T18:21:09.705Z"
   },
   {
    "duration": 13,
    "start_time": "2024-10-24T18:21:10.021Z"
   },
   {
    "duration": 10,
    "start_time": "2024-10-24T18:21:10.037Z"
   },
   {
    "duration": 10,
    "start_time": "2024-10-24T18:21:10.049Z"
   },
   {
    "duration": 7,
    "start_time": "2024-10-24T18:21:10.061Z"
   },
   {
    "duration": 11,
    "start_time": "2024-10-24T18:21:10.070Z"
   },
   {
    "duration": 8,
    "start_time": "2024-10-24T18:21:10.109Z"
   },
   {
    "duration": 92,
    "start_time": "2024-10-24T18:21:10.118Z"
   },
   {
    "duration": 201,
    "start_time": "2024-10-24T18:21:10.212Z"
   },
   {
    "duration": 283,
    "start_time": "2024-10-24T18:21:10.415Z"
   },
   {
    "duration": 288,
    "start_time": "2024-10-24T18:21:10.700Z"
   },
   {
    "duration": 0,
    "start_time": "2024-10-24T18:21:10.990Z"
   },
   {
    "duration": 1012,
    "start_time": "2024-10-24T18:21:36.647Z"
   },
   {
    "duration": 216,
    "start_time": "2024-10-24T18:21:37.661Z"
   },
   {
    "duration": 11,
    "start_time": "2024-10-24T18:21:37.879Z"
   },
   {
    "duration": 20,
    "start_time": "2024-10-24T18:21:37.892Z"
   },
   {
    "duration": 11,
    "start_time": "2024-10-24T18:21:37.914Z"
   },
   {
    "duration": 7,
    "start_time": "2024-10-24T18:21:37.926Z"
   },
   {
    "duration": 11,
    "start_time": "2024-10-24T18:21:37.935Z"
   },
   {
    "duration": 7,
    "start_time": "2024-10-24T18:21:37.948Z"
   },
   {
    "duration": 117,
    "start_time": "2024-10-24T18:21:37.957Z"
   },
   {
    "duration": 135,
    "start_time": "2024-10-24T18:21:38.076Z"
   },
   {
    "duration": 266,
    "start_time": "2024-10-24T18:21:38.214Z"
   },
   {
    "duration": 235,
    "start_time": "2024-10-24T18:21:38.482Z"
   },
   {
    "duration": 0,
    "start_time": "2024-10-24T18:21:38.719Z"
   },
   {
    "duration": 107,
    "start_time": "2024-10-24T18:22:07.481Z"
   },
   {
    "duration": 159,
    "start_time": "2024-10-25T17:03:44.213Z"
   },
   {
    "duration": 2741,
    "start_time": "2024-10-25T17:03:53.793Z"
   },
   {
    "duration": 325,
    "start_time": "2024-10-25T17:03:56.536Z"
   },
   {
    "duration": 12,
    "start_time": "2024-10-25T17:03:56.863Z"
   },
   {
    "duration": 9,
    "start_time": "2024-10-25T17:03:56.877Z"
   },
   {
    "duration": 28,
    "start_time": "2024-10-25T17:03:56.889Z"
   },
   {
    "duration": 8,
    "start_time": "2024-10-25T17:03:56.919Z"
   },
   {
    "duration": 11,
    "start_time": "2024-10-25T17:03:56.929Z"
   },
   {
    "duration": 7,
    "start_time": "2024-10-25T17:03:56.942Z"
   },
   {
    "duration": 113,
    "start_time": "2024-10-25T17:03:56.952Z"
   },
   {
    "duration": 248,
    "start_time": "2024-10-25T17:03:57.067Z"
   },
   {
    "duration": 364,
    "start_time": "2024-10-25T17:03:57.319Z"
   },
   {
    "duration": 0,
    "start_time": "2024-10-25T17:03:57.685Z"
   },
   {
    "duration": 0,
    "start_time": "2024-10-25T17:03:57.687Z"
   },
   {
    "duration": 7,
    "start_time": "2024-10-25T17:04:24.955Z"
   },
   {
    "duration": 1017,
    "start_time": "2024-10-25T17:08:15.123Z"
   },
   {
    "duration": 224,
    "start_time": "2024-10-25T17:08:16.142Z"
   },
   {
    "duration": 12,
    "start_time": "2024-10-25T17:08:16.370Z"
   },
   {
    "duration": 11,
    "start_time": "2024-10-25T17:08:16.384Z"
   },
   {
    "duration": 25,
    "start_time": "2024-10-25T17:08:16.397Z"
   },
   {
    "duration": 7,
    "start_time": "2024-10-25T17:08:16.424Z"
   },
   {
    "duration": 11,
    "start_time": "2024-10-25T17:08:16.434Z"
   },
   {
    "duration": 8,
    "start_time": "2024-10-25T17:08:16.446Z"
   },
   {
    "duration": 121,
    "start_time": "2024-10-25T17:08:16.456Z"
   },
   {
    "duration": 141,
    "start_time": "2024-10-25T17:08:16.579Z"
   },
   {
    "duration": 333,
    "start_time": "2024-10-25T17:08:16.722Z"
   },
   {
    "duration": 0,
    "start_time": "2024-10-25T17:08:17.057Z"
   },
   {
    "duration": 110,
    "start_time": "2024-10-25T17:09:49.395Z"
   },
   {
    "duration": 177,
    "start_time": "2024-10-25T17:12:46.746Z"
   },
   {
    "duration": 87,
    "start_time": "2024-10-25T17:16:27.743Z"
   },
   {
    "duration": 16,
    "start_time": "2024-10-25T17:40:12.548Z"
   },
   {
    "duration": 5,
    "start_time": "2024-10-25T17:40:37.054Z"
   },
   {
    "duration": 7,
    "start_time": "2024-10-25T17:46:01.075Z"
   },
   {
    "duration": 4,
    "start_time": "2024-10-25T17:46:34.026Z"
   },
   {
    "duration": 3,
    "start_time": "2024-10-25T17:49:14.058Z"
   },
   {
    "duration": 4,
    "start_time": "2024-10-25T17:49:27.015Z"
   },
   {
    "duration": 18,
    "start_time": "2024-10-25T17:50:11.565Z"
   },
   {
    "duration": 5,
    "start_time": "2024-10-25T17:51:55.224Z"
   },
   {
    "duration": 5,
    "start_time": "2024-10-25T17:53:01.952Z"
   },
   {
    "duration": 5,
    "start_time": "2024-10-25T17:53:21.400Z"
   },
   {
    "duration": 2752,
    "start_time": "2024-10-26T21:42:29.616Z"
   },
   {
    "duration": 322,
    "start_time": "2024-10-26T21:42:32.371Z"
   },
   {
    "duration": 11,
    "start_time": "2024-10-26T21:42:32.695Z"
   },
   {
    "duration": 10,
    "start_time": "2024-10-26T21:42:32.708Z"
   },
   {
    "duration": 19,
    "start_time": "2024-10-26T21:42:32.720Z"
   },
   {
    "duration": 12,
    "start_time": "2024-10-26T21:42:32.741Z"
   },
   {
    "duration": 13,
    "start_time": "2024-10-26T21:42:32.755Z"
   },
   {
    "duration": 8,
    "start_time": "2024-10-26T21:42:32.770Z"
   },
   {
    "duration": 112,
    "start_time": "2024-10-26T21:42:32.780Z"
   },
   {
    "duration": 153,
    "start_time": "2024-10-26T21:42:32.895Z"
   },
   {
    "duration": 268,
    "start_time": "2024-10-26T21:42:33.050Z"
   },
   {
    "duration": 105,
    "start_time": "2024-10-26T21:43:50.849Z"
   },
   {
    "duration": 26,
    "start_time": "2024-10-26T21:43:58.392Z"
   },
   {
    "duration": 15,
    "start_time": "2024-10-26T21:44:37.240Z"
   },
   {
    "duration": 16,
    "start_time": "2024-10-26T21:44:52.618Z"
   },
   {
    "duration": 20,
    "start_time": "2024-10-26T21:45:10.280Z"
   },
   {
    "duration": 18,
    "start_time": "2024-10-26T21:45:25.830Z"
   },
   {
    "duration": 7,
    "start_time": "2024-10-26T21:45:37.608Z"
   },
   {
    "duration": 7,
    "start_time": "2024-10-26T21:45:52.610Z"
   },
   {
    "duration": 19,
    "start_time": "2024-10-26T21:48:38.326Z"
   },
   {
    "duration": 15,
    "start_time": "2024-10-26T21:49:49.539Z"
   },
   {
    "duration": 9,
    "start_time": "2024-10-26T21:50:07.725Z"
   },
   {
    "duration": 12,
    "start_time": "2024-10-26T21:51:35.213Z"
   },
   {
    "duration": 11,
    "start_time": "2024-10-26T21:58:18.868Z"
   },
   {
    "duration": 11,
    "start_time": "2024-10-26T22:00:13.874Z"
   },
   {
    "duration": 9,
    "start_time": "2024-10-27T16:50:14.738Z"
   },
   {
    "duration": 163,
    "start_time": "2024-10-27T16:50:33.831Z"
   },
   {
    "duration": 2732,
    "start_time": "2024-10-27T16:51:35.477Z"
   },
   {
    "duration": 320,
    "start_time": "2024-10-27T16:51:38.212Z"
   },
   {
    "duration": 12,
    "start_time": "2024-10-27T16:51:38.534Z"
   },
   {
    "duration": 11,
    "start_time": "2024-10-27T16:51:38.547Z"
   },
   {
    "duration": 11,
    "start_time": "2024-10-27T16:51:38.560Z"
   },
   {
    "duration": 7,
    "start_time": "2024-10-27T16:51:38.573Z"
   },
   {
    "duration": 12,
    "start_time": "2024-10-27T16:51:38.582Z"
   },
   {
    "duration": 36,
    "start_time": "2024-10-27T16:51:38.596Z"
   },
   {
    "duration": 99,
    "start_time": "2024-10-27T16:51:38.635Z"
   },
   {
    "duration": 212,
    "start_time": "2024-10-27T16:51:38.736Z"
   },
   {
    "duration": 84,
    "start_time": "2024-10-27T16:51:38.950Z"
   },
   {
    "duration": 3,
    "start_time": "2024-10-27T16:51:39.036Z"
   },
   {
    "duration": 11,
    "start_time": "2024-10-27T16:56:56.340Z"
   },
   {
    "duration": 1020,
    "start_time": "2024-10-27T16:57:10.743Z"
   },
   {
    "duration": 234,
    "start_time": "2024-10-27T16:57:11.765Z"
   },
   {
    "duration": 13,
    "start_time": "2024-10-27T16:57:12.002Z"
   },
   {
    "duration": 15,
    "start_time": "2024-10-27T16:57:12.017Z"
   },
   {
    "duration": 12,
    "start_time": "2024-10-27T16:57:12.035Z"
   },
   {
    "duration": 8,
    "start_time": "2024-10-27T16:57:12.049Z"
   },
   {
    "duration": 10,
    "start_time": "2024-10-27T16:57:12.059Z"
   },
   {
    "duration": 7,
    "start_time": "2024-10-27T16:57:12.071Z"
   },
   {
    "duration": 120,
    "start_time": "2024-10-27T16:57:12.080Z"
   },
   {
    "duration": 139,
    "start_time": "2024-10-27T16:57:12.201Z"
   },
   {
    "duration": 89,
    "start_time": "2024-10-27T16:57:12.342Z"
   },
   {
    "duration": 3,
    "start_time": "2024-10-27T16:57:12.433Z"
   },
   {
    "duration": 10,
    "start_time": "2024-10-27T16:57:30.519Z"
   },
   {
    "duration": 14,
    "start_time": "2024-10-27T16:57:47.937Z"
   },
   {
    "duration": 10,
    "start_time": "2024-10-27T16:59:23.686Z"
   },
   {
    "duration": 11,
    "start_time": "2024-10-27T17:00:42.374Z"
   },
   {
    "duration": 11,
    "start_time": "2024-10-27T17:21:21.753Z"
   },
   {
    "duration": 11,
    "start_time": "2024-10-27T17:30:14.364Z"
   },
   {
    "duration": 11,
    "start_time": "2024-10-27T17:36:26.928Z"
   },
   {
    "duration": 11,
    "start_time": "2024-10-27T17:36:56.462Z"
   },
   {
    "duration": 11,
    "start_time": "2024-10-27T17:37:05.926Z"
   },
   {
    "duration": 999,
    "start_time": "2024-10-27T17:37:16.665Z"
   },
   {
    "duration": 221,
    "start_time": "2024-10-27T17:37:17.673Z"
   },
   {
    "duration": 12,
    "start_time": "2024-10-27T17:37:17.896Z"
   },
   {
    "duration": 11,
    "start_time": "2024-10-27T17:37:17.910Z"
   },
   {
    "duration": 13,
    "start_time": "2024-10-27T17:37:17.932Z"
   },
   {
    "duration": 7,
    "start_time": "2024-10-27T17:37:17.946Z"
   },
   {
    "duration": 11,
    "start_time": "2024-10-27T17:37:17.955Z"
   },
   {
    "duration": 6,
    "start_time": "2024-10-27T17:37:17.968Z"
   },
   {
    "duration": 121,
    "start_time": "2024-10-27T17:37:17.976Z"
   },
   {
    "duration": 147,
    "start_time": "2024-10-27T17:37:18.100Z"
   },
   {
    "duration": 356,
    "start_time": "2024-10-27T17:37:18.249Z"
   },
   {
    "duration": 0,
    "start_time": "2024-10-27T17:37:18.607Z"
   },
   {
    "duration": 1027,
    "start_time": "2024-10-27T17:38:03.133Z"
   },
   {
    "duration": 219,
    "start_time": "2024-10-27T17:38:04.163Z"
   },
   {
    "duration": 12,
    "start_time": "2024-10-27T17:38:04.384Z"
   },
   {
    "duration": 11,
    "start_time": "2024-10-27T17:38:04.398Z"
   },
   {
    "duration": 30,
    "start_time": "2024-10-27T17:38:04.410Z"
   },
   {
    "duration": 8,
    "start_time": "2024-10-27T17:38:04.441Z"
   },
   {
    "duration": 15,
    "start_time": "2024-10-27T17:38:04.450Z"
   },
   {
    "duration": 9,
    "start_time": "2024-10-27T17:38:04.469Z"
   },
   {
    "duration": 106,
    "start_time": "2024-10-27T17:38:04.480Z"
   },
   {
    "duration": 151,
    "start_time": "2024-10-27T17:38:04.589Z"
   },
   {
    "duration": 90,
    "start_time": "2024-10-27T17:38:04.742Z"
   },
   {
    "duration": 13,
    "start_time": "2024-10-27T17:38:04.834Z"
   },
   {
    "duration": 11,
    "start_time": "2024-10-27T17:39:53.657Z"
   },
   {
    "duration": 5,
    "start_time": "2024-10-27T17:46:13.482Z"
   },
   {
    "duration": 11,
    "start_time": "2024-10-27T17:46:22.075Z"
   },
   {
    "duration": 13,
    "start_time": "2024-10-27T17:46:44.090Z"
   },
   {
    "duration": 170,
    "start_time": "2024-10-28T19:28:39.153Z"
   },
   {
    "duration": 2794,
    "start_time": "2024-10-28T19:28:55.588Z"
   },
   {
    "duration": 359,
    "start_time": "2024-10-28T19:28:58.384Z"
   },
   {
    "duration": 11,
    "start_time": "2024-10-28T19:28:58.745Z"
   },
   {
    "duration": 9,
    "start_time": "2024-10-28T19:28:58.758Z"
   },
   {
    "duration": 10,
    "start_time": "2024-10-28T19:28:58.770Z"
   },
   {
    "duration": 6,
    "start_time": "2024-10-28T19:28:58.782Z"
   },
   {
    "duration": 19,
    "start_time": "2024-10-28T19:28:58.805Z"
   },
   {
    "duration": 10,
    "start_time": "2024-10-28T19:28:58.828Z"
   },
   {
    "duration": 88,
    "start_time": "2024-10-28T19:28:58.839Z"
   },
   {
    "duration": 188,
    "start_time": "2024-10-28T19:28:58.931Z"
   },
   {
    "duration": 14,
    "start_time": "2024-10-28T19:28:59.123Z"
   },
   {
    "duration": 86,
    "start_time": "2024-10-28T19:28:59.142Z"
   },
   {
    "duration": 11,
    "start_time": "2024-10-28T20:35:30.857Z"
   },
   {
    "duration": 13,
    "start_time": "2024-10-28T22:09:32.200Z"
   },
   {
    "duration": 13,
    "start_time": "2024-10-28T22:10:19.879Z"
   },
   {
    "duration": 2824,
    "start_time": "2024-10-29T16:37:06.196Z"
   },
   {
    "duration": 315,
    "start_time": "2024-10-29T16:37:09.022Z"
   },
   {
    "duration": 12,
    "start_time": "2024-10-29T16:37:09.339Z"
   },
   {
    "duration": 9,
    "start_time": "2024-10-29T16:37:09.352Z"
   },
   {
    "duration": 12,
    "start_time": "2024-10-29T16:37:09.364Z"
   },
   {
    "duration": 6,
    "start_time": "2024-10-29T16:37:09.378Z"
   },
   {
    "duration": 31,
    "start_time": "2024-10-29T16:37:09.386Z"
   },
   {
    "duration": 7,
    "start_time": "2024-10-29T16:37:09.419Z"
   },
   {
    "duration": 101,
    "start_time": "2024-10-29T16:37:09.427Z"
   },
   {
    "duration": 184,
    "start_time": "2024-10-29T16:37:09.530Z"
   },
   {
    "duration": 15,
    "start_time": "2024-10-29T16:37:09.716Z"
   },
   {
    "duration": 83,
    "start_time": "2024-10-29T16:37:09.735Z"
   },
   {
    "duration": 1019,
    "start_time": "2024-10-29T16:47:19.616Z"
   },
   {
    "duration": 220,
    "start_time": "2024-10-29T16:47:20.637Z"
   },
   {
    "duration": 13,
    "start_time": "2024-10-29T16:47:20.858Z"
   },
   {
    "duration": 9,
    "start_time": "2024-10-29T16:47:20.874Z"
   },
   {
    "duration": 24,
    "start_time": "2024-10-29T16:47:20.885Z"
   },
   {
    "duration": 6,
    "start_time": "2024-10-29T16:47:20.911Z"
   },
   {
    "duration": 10,
    "start_time": "2024-10-29T16:47:20.919Z"
   },
   {
    "duration": 7,
    "start_time": "2024-10-29T16:47:20.930Z"
   },
   {
    "duration": 112,
    "start_time": "2024-10-29T16:47:20.939Z"
   },
   {
    "duration": 158,
    "start_time": "2024-10-29T16:47:21.053Z"
   },
   {
    "duration": 14,
    "start_time": "2024-10-29T16:47:21.213Z"
   },
   {
    "duration": 310,
    "start_time": "2024-10-29T16:47:21.228Z"
   },
   {
    "duration": 12,
    "start_time": "2024-10-29T16:47:38.645Z"
   },
   {
    "duration": 4,
    "start_time": "2024-10-29T16:48:10.155Z"
   },
   {
    "duration": 26,
    "start_time": "2024-10-29T16:48:52.756Z"
   },
   {
    "duration": 29,
    "start_time": "2024-10-29T16:49:36.374Z"
   },
   {
    "duration": 12,
    "start_time": "2024-10-29T16:50:12.110Z"
   },
   {
    "duration": 6,
    "start_time": "2024-10-29T16:50:18.161Z"
   },
   {
    "duration": 21,
    "start_time": "2024-10-29T16:55:35.117Z"
   },
   {
    "duration": 19,
    "start_time": "2024-10-29T16:56:58.332Z"
   },
   {
    "duration": 14,
    "start_time": "2024-10-29T16:57:38.065Z"
   },
   {
    "duration": 5,
    "start_time": "2024-10-29T16:57:49.966Z"
   },
   {
    "duration": 4,
    "start_time": "2024-10-29T16:58:06.086Z"
   },
   {
    "duration": 1007,
    "start_time": "2024-10-29T16:59:38.703Z"
   },
   {
    "duration": 227,
    "start_time": "2024-10-29T16:59:39.713Z"
   },
   {
    "duration": 11,
    "start_time": "2024-10-29T16:59:39.942Z"
   },
   {
    "duration": 10,
    "start_time": "2024-10-29T16:59:39.955Z"
   },
   {
    "duration": 10,
    "start_time": "2024-10-29T16:59:39.967Z"
   },
   {
    "duration": 7,
    "start_time": "2024-10-29T16:59:39.979Z"
   },
   {
    "duration": 32,
    "start_time": "2024-10-29T16:59:39.987Z"
   },
   {
    "duration": 7,
    "start_time": "2024-10-29T16:59:40.021Z"
   },
   {
    "duration": 108,
    "start_time": "2024-10-29T16:59:40.030Z"
   },
   {
    "duration": 173,
    "start_time": "2024-10-29T16:59:40.141Z"
   },
   {
    "duration": 13,
    "start_time": "2024-10-29T16:59:40.316Z"
   },
   {
    "duration": 85,
    "start_time": "2024-10-29T16:59:40.330Z"
   },
   {
    "duration": 5,
    "start_time": "2024-10-29T16:59:40.417Z"
   },
   {
    "duration": 11,
    "start_time": "2024-10-29T17:00:43.185Z"
   },
   {
    "duration": 1026,
    "start_time": "2024-10-29T17:01:14.809Z"
   },
   {
    "duration": 220,
    "start_time": "2024-10-29T17:01:15.838Z"
   },
   {
    "duration": 12,
    "start_time": "2024-10-29T17:01:16.059Z"
   },
   {
    "duration": 10,
    "start_time": "2024-10-29T17:01:16.073Z"
   },
   {
    "duration": 27,
    "start_time": "2024-10-29T17:01:16.085Z"
   },
   {
    "duration": 7,
    "start_time": "2024-10-29T17:01:16.113Z"
   },
   {
    "duration": 10,
    "start_time": "2024-10-29T17:01:16.123Z"
   },
   {
    "duration": 7,
    "start_time": "2024-10-29T17:01:16.134Z"
   },
   {
    "duration": 113,
    "start_time": "2024-10-29T17:01:16.143Z"
   },
   {
    "duration": 160,
    "start_time": "2024-10-29T17:01:16.258Z"
   },
   {
    "duration": 90,
    "start_time": "2024-10-29T17:01:16.420Z"
   },
   {
    "duration": 13,
    "start_time": "2024-10-29T17:01:16.514Z"
   },
   {
    "duration": 4,
    "start_time": "2024-10-29T17:01:16.529Z"
   },
   {
    "duration": 12,
    "start_time": "2024-10-29T17:02:17.575Z"
   },
   {
    "duration": 262,
    "start_time": "2024-10-29T17:09:26.499Z"
   },
   {
    "duration": 31,
    "start_time": "2024-10-29T17:10:02.497Z"
   },
   {
    "duration": 12,
    "start_time": "2024-10-29T17:11:46.130Z"
   },
   {
    "duration": 157,
    "start_time": "2024-10-29T18:50:26.433Z"
   },
   {
    "duration": 159,
    "start_time": "2024-10-29T18:52:18.875Z"
   },
   {
    "duration": 2614,
    "start_time": "2024-10-29T18:52:19.448Z"
   },
   {
    "duration": 310,
    "start_time": "2024-10-29T18:52:22.064Z"
   },
   {
    "duration": 11,
    "start_time": "2024-10-29T18:52:22.376Z"
   },
   {
    "duration": 17,
    "start_time": "2024-10-29T18:52:22.390Z"
   },
   {
    "duration": 15,
    "start_time": "2024-10-29T18:52:22.410Z"
   },
   {
    "duration": 9,
    "start_time": "2024-10-29T18:52:22.427Z"
   },
   {
    "duration": 14,
    "start_time": "2024-10-29T18:52:22.437Z"
   },
   {
    "duration": 8,
    "start_time": "2024-10-29T18:52:22.454Z"
   },
   {
    "duration": 106,
    "start_time": "2024-10-29T18:52:22.463Z"
   },
   {
    "duration": 146,
    "start_time": "2024-10-29T18:52:22.571Z"
   },
   {
    "duration": 12,
    "start_time": "2024-10-29T18:52:22.719Z"
   },
   {
    "duration": 83,
    "start_time": "2024-10-29T18:52:22.733Z"
   },
   {
    "duration": 5,
    "start_time": "2024-10-29T18:52:22.818Z"
   },
   {
    "duration": 913,
    "start_time": "2024-10-29T18:52:28.484Z"
   },
   {
    "duration": 220,
    "start_time": "2024-10-29T18:52:29.399Z"
   },
   {
    "duration": 11,
    "start_time": "2024-10-29T18:52:29.621Z"
   },
   {
    "duration": 10,
    "start_time": "2024-10-29T18:52:29.635Z"
   },
   {
    "duration": 10,
    "start_time": "2024-10-29T18:52:29.646Z"
   },
   {
    "duration": 7,
    "start_time": "2024-10-29T18:52:29.658Z"
   },
   {
    "duration": 38,
    "start_time": "2024-10-29T18:52:29.667Z"
   },
   {
    "duration": 7,
    "start_time": "2024-10-29T18:52:29.706Z"
   },
   {
    "duration": 93,
    "start_time": "2024-10-29T18:52:29.715Z"
   },
   {
    "duration": 110,
    "start_time": "2024-10-29T18:52:29.811Z"
   },
   {
    "duration": 88,
    "start_time": "2024-10-29T18:52:29.922Z"
   },
   {
    "duration": 13,
    "start_time": "2024-10-29T18:52:30.015Z"
   },
   {
    "duration": 4,
    "start_time": "2024-10-29T18:52:30.030Z"
   },
   {
    "duration": 13,
    "start_time": "2024-10-29T19:38:55.057Z"
   },
   {
    "duration": 792,
    "start_time": "2024-10-29T19:46:02.413Z"
   },
   {
    "duration": 228,
    "start_time": "2024-10-29T19:46:03.208Z"
   },
   {
    "duration": 12,
    "start_time": "2024-10-29T19:46:03.438Z"
   },
   {
    "duration": 13,
    "start_time": "2024-10-29T19:46:03.453Z"
   },
   {
    "duration": 10,
    "start_time": "2024-10-29T19:46:03.469Z"
   },
   {
    "duration": 25,
    "start_time": "2024-10-29T19:46:03.481Z"
   },
   {
    "duration": 10,
    "start_time": "2024-10-29T19:46:03.508Z"
   },
   {
    "duration": 8,
    "start_time": "2024-10-29T19:46:03.520Z"
   },
   {
    "duration": 128,
    "start_time": "2024-10-29T19:46:03.529Z"
   },
   {
    "duration": 245,
    "start_time": "2024-10-29T19:46:03.659Z"
   },
   {
    "duration": 22,
    "start_time": "2024-10-29T19:46:03.910Z"
   },
   {
    "duration": 70,
    "start_time": "2024-10-29T19:46:03.934Z"
   },
   {
    "duration": 243,
    "start_time": "2024-10-29T19:46:04.006Z"
   },
   {
    "duration": 8,
    "start_time": "2024-10-29T19:48:05.901Z"
   },
   {
    "duration": 4,
    "start_time": "2024-10-29T19:48:23.996Z"
   },
   {
    "duration": 5,
    "start_time": "2024-10-29T19:48:37.255Z"
   },
   {
    "duration": 5,
    "start_time": "2024-10-29T19:48:42.267Z"
   },
   {
    "duration": 4,
    "start_time": "2024-10-29T19:48:51.850Z"
   },
   {
    "duration": 20,
    "start_time": "2024-10-29T19:49:16.059Z"
   },
   {
    "duration": 12,
    "start_time": "2024-10-29T19:49:33.398Z"
   },
   {
    "duration": 4,
    "start_time": "2024-10-29T19:58:15.242Z"
   },
   {
    "duration": 4,
    "start_time": "2024-10-29T20:00:49.394Z"
   },
   {
    "duration": 25,
    "start_time": "2024-10-29T20:01:56.873Z"
   },
   {
    "duration": 24,
    "start_time": "2024-10-29T20:03:25.820Z"
   },
   {
    "duration": 15,
    "start_time": "2024-10-29T20:05:15.655Z"
   },
   {
    "duration": 15,
    "start_time": "2024-10-29T20:05:27.640Z"
   },
   {
    "duration": 15,
    "start_time": "2024-10-29T20:06:12.657Z"
   },
   {
    "duration": 16,
    "start_time": "2024-10-29T20:06:30.006Z"
   },
   {
    "duration": 340,
    "start_time": "2024-10-29T20:13:12.573Z"
   },
   {
    "duration": 5,
    "start_time": "2024-10-29T20:14:33.456Z"
   },
   {
    "duration": 56,
    "start_time": "2024-10-29T20:16:37.262Z"
   },
   {
    "duration": 58,
    "start_time": "2024-10-29T20:16:47.915Z"
   },
   {
    "duration": 58,
    "start_time": "2024-10-29T20:17:14.567Z"
   },
   {
    "duration": 58,
    "start_time": "2024-10-29T20:18:25.056Z"
   },
   {
    "duration": 15,
    "start_time": "2024-10-29T20:24:17.685Z"
   },
   {
    "duration": 3931,
    "start_time": "2024-10-29T20:31:32.474Z"
   },
   {
    "duration": 12,
    "start_time": "2024-10-29T20:32:18.521Z"
   },
   {
    "duration": 3016,
    "start_time": "2024-10-29T20:32:24.632Z"
   },
   {
    "duration": 2826,
    "start_time": "2024-10-29T20:32:35.680Z"
   },
   {
    "duration": 33,
    "start_time": "2024-10-29T20:39:01.206Z"
   },
   {
    "duration": 12,
    "start_time": "2024-10-29T20:40:09.060Z"
   },
   {
    "duration": 5,
    "start_time": "2024-10-29T20:40:56.252Z"
   },
   {
    "duration": 307,
    "start_time": "2024-10-29T20:42:46.417Z"
   },
   {
    "duration": 64,
    "start_time": "2024-10-29T20:42:53.379Z"
   },
   {
    "duration": 418,
    "start_time": "2024-10-29T20:43:08.930Z"
   },
   {
    "duration": 8,
    "start_time": "2024-10-29T20:43:28.926Z"
   },
   {
    "duration": 9,
    "start_time": "2024-10-29T20:43:37.672Z"
   },
   {
    "duration": 12,
    "start_time": "2024-10-29T20:59:17.929Z"
   },
   {
    "duration": 5,
    "start_time": "2024-10-29T21:08:17.955Z"
   },
   {
    "duration": 11,
    "start_time": "2024-10-29T21:08:40.339Z"
   },
   {
    "duration": 218,
    "start_time": "2024-10-30T02:36:09.915Z"
   },
   {
    "duration": 807,
    "start_time": "2024-10-30T02:36:17.930Z"
   },
   {
    "duration": 395,
    "start_time": "2024-10-30T02:36:18.740Z"
   },
   {
    "duration": 16,
    "start_time": "2024-10-30T02:36:19.136Z"
   },
   {
    "duration": 19,
    "start_time": "2024-10-30T02:36:19.153Z"
   },
   {
    "duration": 14,
    "start_time": "2024-10-30T02:36:19.175Z"
   },
   {
    "duration": 7,
    "start_time": "2024-10-30T02:36:19.190Z"
   },
   {
    "duration": 11,
    "start_time": "2024-10-30T02:36:19.199Z"
   },
   {
    "duration": 8,
    "start_time": "2024-10-30T02:36:19.211Z"
   },
   {
    "duration": 124,
    "start_time": "2024-10-30T02:36:19.220Z"
   },
   {
    "duration": 198,
    "start_time": "2024-10-30T02:36:19.345Z"
   },
   {
    "duration": 23,
    "start_time": "2024-10-30T02:36:19.545Z"
   },
   {
    "duration": 19,
    "start_time": "2024-10-30T02:36:19.571Z"
   },
   {
    "duration": 59,
    "start_time": "2024-10-30T02:36:19.591Z"
   },
   {
    "duration": 407,
    "start_time": "2024-10-30T02:36:19.654Z"
   },
   {
    "duration": 422,
    "start_time": "2024-10-30T02:40:20.045Z"
   },
   {
    "duration": 14,
    "start_time": "2024-10-30T02:40:27.938Z"
   },
   {
    "duration": 7,
    "start_time": "2024-10-30T02:41:05.106Z"
   },
   {
    "duration": 349,
    "start_time": "2024-10-30T02:53:56.647Z"
   },
   {
    "duration": 5,
    "start_time": "2024-10-30T02:53:58.908Z"
   },
   {
    "duration": 353,
    "start_time": "2024-10-30T02:55:55.174Z"
   },
   {
    "duration": 5,
    "start_time": "2024-10-30T02:55:57.037Z"
   },
   {
    "duration": 127,
    "start_time": "2024-10-30T02:58:37.008Z"
   },
   {
    "duration": 5,
    "start_time": "2024-10-30T02:59:07.294Z"
   },
   {
    "duration": 360,
    "start_time": "2024-10-30T03:02:37.314Z"
   },
   {
    "duration": 339,
    "start_time": "2024-10-30T03:02:51.371Z"
   },
   {
    "duration": 339,
    "start_time": "2024-10-30T03:12:11.822Z"
   },
   {
    "duration": 827,
    "start_time": "2024-10-30T03:22:03.234Z"
   },
   {
    "duration": 347,
    "start_time": "2024-10-30T03:22:47.359Z"
   },
   {
    "duration": 397,
    "start_time": "2024-10-30T03:23:03.433Z"
   },
   {
    "duration": 403,
    "start_time": "2024-10-30T03:23:16.094Z"
   },
   {
    "duration": 1048,
    "start_time": "2024-10-30T03:29:40.618Z"
   },
   {
    "duration": 1018,
    "start_time": "2024-10-30T03:37:35.978Z"
   },
   {
    "duration": 756,
    "start_time": "2024-10-31T15:28:15.201Z"
   },
   {
    "duration": 317,
    "start_time": "2024-10-31T15:28:15.960Z"
   },
   {
    "duration": 13,
    "start_time": "2024-10-31T15:28:16.278Z"
   },
   {
    "duration": 10,
    "start_time": "2024-10-31T15:28:16.292Z"
   },
   {
    "duration": 10,
    "start_time": "2024-10-31T15:28:16.304Z"
   },
   {
    "duration": 27,
    "start_time": "2024-10-31T15:28:16.316Z"
   },
   {
    "duration": 11,
    "start_time": "2024-10-31T15:28:16.344Z"
   },
   {
    "duration": 6,
    "start_time": "2024-10-31T15:28:16.357Z"
   },
   {
    "duration": 108,
    "start_time": "2024-10-31T15:28:16.365Z"
   },
   {
    "duration": 90,
    "start_time": "2024-10-31T15:28:16.476Z"
   },
   {
    "duration": 13,
    "start_time": "2024-10-31T15:28:16.645Z"
   },
   {
    "duration": 83,
    "start_time": "2024-10-31T15:28:16.660Z"
   },
   {
    "duration": 997,
    "start_time": "2024-10-31T15:28:16.744Z"
   },
   {
    "duration": 6,
    "start_time": "2024-10-31T15:28:17.745Z"
   },
   {
    "duration": 3,
    "start_time": "2024-10-31T15:31:27.232Z"
   },
   {
    "duration": 212,
    "start_time": "2024-10-31T15:47:45.715Z"
   },
   {
    "duration": 728,
    "start_time": "2024-10-31T15:48:01.613Z"
   },
   {
    "duration": 223,
    "start_time": "2024-10-31T15:48:02.343Z"
   },
   {
    "duration": 15,
    "start_time": "2024-10-31T15:48:02.567Z"
   },
   {
    "duration": 12,
    "start_time": "2024-10-31T15:48:02.584Z"
   },
   {
    "duration": 10,
    "start_time": "2024-10-31T15:48:02.598Z"
   },
   {
    "duration": 7,
    "start_time": "2024-10-31T15:48:02.610Z"
   },
   {
    "duration": 31,
    "start_time": "2024-10-31T15:48:02.619Z"
   },
   {
    "duration": 7,
    "start_time": "2024-10-31T15:48:02.652Z"
   },
   {
    "duration": 104,
    "start_time": "2024-10-31T15:48:02.661Z"
   },
   {
    "duration": 176,
    "start_time": "2024-10-31T15:48:02.768Z"
   },
   {
    "duration": 18,
    "start_time": "2024-10-31T15:48:02.946Z"
   },
   {
    "duration": 14,
    "start_time": "2024-10-31T15:48:02.967Z"
   },
   {
    "duration": 1043,
    "start_time": "2024-10-31T15:48:02.983Z"
   },
   {
    "duration": 15,
    "start_time": "2024-10-31T15:48:04.027Z"
   },
   {
    "duration": 8,
    "start_time": "2024-10-31T15:53:51.038Z"
   },
   {
    "duration": 5,
    "start_time": "2024-10-31T15:56:50.382Z"
   },
   {
    "duration": 1147,
    "start_time": "2024-10-31T16:05:26.669Z"
   },
   {
    "duration": 160,
    "start_time": "2024-10-31T19:02:11.019Z"
   },
   {
    "duration": 822,
    "start_time": "2024-10-31T19:02:20.128Z"
   },
   {
    "duration": 354,
    "start_time": "2024-10-31T19:02:20.952Z"
   },
   {
    "duration": 13,
    "start_time": "2024-10-31T19:02:21.308Z"
   },
   {
    "duration": 11,
    "start_time": "2024-10-31T19:02:21.323Z"
   },
   {
    "duration": 10,
    "start_time": "2024-10-31T19:02:21.336Z"
   },
   {
    "duration": 7,
    "start_time": "2024-10-31T19:02:21.347Z"
   },
   {
    "duration": 10,
    "start_time": "2024-10-31T19:02:21.356Z"
   },
   {
    "duration": 40,
    "start_time": "2024-10-31T19:02:21.368Z"
   },
   {
    "duration": 83,
    "start_time": "2024-10-31T19:02:21.410Z"
   },
   {
    "duration": 118,
    "start_time": "2024-10-31T19:02:21.505Z"
   },
   {
    "duration": 81,
    "start_time": "2024-10-31T19:02:21.625Z"
   },
   {
    "duration": 15,
    "start_time": "2024-10-31T19:02:21.708Z"
   },
   {
    "duration": 1108,
    "start_time": "2024-10-31T19:02:21.725Z"
   },
   {
    "duration": 8,
    "start_time": "2024-10-31T19:02:22.836Z"
   },
   {
    "duration": 8,
    "start_time": "2024-10-31T19:05:08.479Z"
   },
   {
    "duration": 7,
    "start_time": "2024-10-31T19:05:33.778Z"
   },
   {
    "duration": 7,
    "start_time": "2024-10-31T19:05:39.026Z"
   },
   {
    "duration": 7,
    "start_time": "2024-10-31T19:05:59.140Z"
   },
   {
    "duration": 7,
    "start_time": "2024-10-31T19:06:04.136Z"
   },
   {
    "duration": 8,
    "start_time": "2024-10-31T19:06:41.687Z"
   },
   {
    "duration": 7,
    "start_time": "2024-10-31T19:07:09.755Z"
   },
   {
    "duration": 7,
    "start_time": "2024-10-31T19:08:11.281Z"
   },
   {
    "duration": 7,
    "start_time": "2024-10-31T19:09:07.220Z"
   },
   {
    "duration": 7,
    "start_time": "2024-10-31T19:09:56.430Z"
   },
   {
    "duration": 8,
    "start_time": "2024-10-31T19:14:27.296Z"
   },
   {
    "duration": 11,
    "start_time": "2024-10-31T19:26:29.888Z"
   },
   {
    "duration": 12,
    "start_time": "2024-10-31T19:39:17.730Z"
   },
   {
    "duration": 12,
    "start_time": "2024-10-31T19:43:16.838Z"
   },
   {
    "duration": 12,
    "start_time": "2024-10-31T21:04:34.442Z"
   },
   {
    "duration": 4,
    "start_time": "2024-10-31T21:18:31.140Z"
   },
   {
    "duration": 7,
    "start_time": "2024-10-31T21:20:12.692Z"
   },
   {
    "duration": 14,
    "start_time": "2024-10-31T22:33:02.805Z"
   },
   {
    "duration": 9,
    "start_time": "2024-11-01T13:49:43.789Z"
   },
   {
    "duration": 774,
    "start_time": "2024-11-01T13:49:54.569Z"
   },
   {
    "duration": 297,
    "start_time": "2024-11-01T13:49:55.346Z"
   },
   {
    "duration": 12,
    "start_time": "2024-11-01T13:49:55.645Z"
   },
   {
    "duration": 11,
    "start_time": "2024-11-01T13:49:55.658Z"
   },
   {
    "duration": 11,
    "start_time": "2024-11-01T13:49:55.671Z"
   },
   {
    "duration": 27,
    "start_time": "2024-11-01T13:49:55.683Z"
   },
   {
    "duration": 12,
    "start_time": "2024-11-01T13:49:55.711Z"
   },
   {
    "duration": 7,
    "start_time": "2024-11-01T13:49:55.724Z"
   },
   {
    "duration": 110,
    "start_time": "2024-11-01T13:49:55.733Z"
   },
   {
    "duration": 169,
    "start_time": "2024-11-01T13:49:55.845Z"
   },
   {
    "duration": 13,
    "start_time": "2024-11-01T13:49:56.016Z"
   },
   {
    "duration": 84,
    "start_time": "2024-11-01T13:49:56.031Z"
   },
   {
    "duration": 4,
    "start_time": "2024-11-01T13:49:56.117Z"
   },
   {
    "duration": 1014,
    "start_time": "2024-11-01T13:49:56.124Z"
   },
   {
    "duration": 4,
    "start_time": "2024-11-01T13:49:57.139Z"
   },
   {
    "duration": 7,
    "start_time": "2024-11-01T13:49:57.145Z"
   },
   {
    "duration": 5,
    "start_time": "2024-11-01T13:49:57.154Z"
   }
  ],
  "kernelspec": {
   "display_name": "base",
   "language": "python",
   "name": "python3"
  },
  "language_info": {
   "codemirror_mode": {
    "name": "ipython",
    "version": 3
   },
   "file_extension": ".py",
   "mimetype": "text/x-python",
   "name": "python",
   "nbconvert_exporter": "python",
   "pygments_lexer": "ipython3",
   "version": "3.11.7"
  },
  "toc": {
   "base_numbering": 1,
   "nav_menu": {},
   "number_sections": true,
   "sideBar": true,
   "skip_h1_title": true,
   "title_cell": "Table of Contents",
   "title_sidebar": "Contents",
   "toc_cell": false,
   "toc_position": {},
   "toc_section_display": true,
   "toc_window_display": false
  }
 },
 "nbformat": 4,
 "nbformat_minor": 2
}
